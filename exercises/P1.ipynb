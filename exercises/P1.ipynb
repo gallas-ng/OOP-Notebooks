{
 "cells": [
  {
   "cell_type": "markdown",
   "metadata": {},
   "source": [
    "### Part 1: Task \n",
    "Please create a class named Task which models a single task in a software company’s list of \n",
    "tasks. Tasks have:\n",
    "\n",
    "- A description \n",
    "- An estimated number of hours for completion \n",
    "- The name of the programmer assigned to it \n",
    "- A status field to indicate if it is finished \n",
    "- A unique identifier"
   ]
  },
  {
   "cell_type": "code",
   "execution_count": null,
   "metadata": {},
   "outputs": [],
   "source": [
    "\n",
    "class Task:\n",
    "    \"\"\"Class which models a single task in a software company’s list of tasks\"\"\"\n",
    "\n",
    "    _task_status = {\n",
    "        0: \"NOT FINISHED\",\n",
    "        1: \"FINISHED\",\n",
    "    }\n",
    "\n",
    "    # Class-level counter for unique IDs\n",
    "    _id_counter = 1  \n",
    "\n",
    "    # The magic method __new__ is used to assign a unique ID foreach instance of Task class\n",
    "    def __new__(cls, *args, **kwargs):\n",
    "        instance = super().__new__(cls)\n",
    "        instance.__id = cls._id_counter \n",
    "        cls._id_counter += 1\n",
    "        return instance\n",
    "\n",
    "    def __init__(self, description, programmer,workload):\n",
    "        self.description = description\n",
    "        self.programmer = programmer\n",
    "        self.workload = workload\n",
    "        self.__status = 0  # Default status is \"Not finished\"\n",
    "\n",
    "    # This has been created for test purpose\n",
    "    @classmethod\n",
    "    def reset_id_counter(cls):\n",
    "        \"\"\"Reset the ID counter to 1\"\"\"\n",
    "        cls._id_counter = 1\n",
    "        \n",
    "    @property\n",
    "    def id(self):\n",
    "        \"\"\"Get the ID of a task\"\"\"\n",
    "        return self.__id\n",
    "\n",
    "    @property\n",
    "    def status(self):\n",
    "        \"\"\"Get the status of a task\"\"\"\n",
    "        return type(self)._task_status[self.__status]\n",
    "\n",
    "    def __str__(self):\n",
    "        \"\"\"Return a string representation of the task.\"\"\"\n",
    "        return f\"{self.id} : {self.description} ({self.workload} hours), programmer {self.programmer} {self.status}\"\n",
    "\n",
    "    def mark_finished(self):\n",
    "        \"\"\"Mark the task as finished.\"\"\"\n",
    "        self.__status = 1\n",
    "\n",
    "    def is_finished(self):\n",
    "        \"\"\"Check if the task is finished.\"\"\"\n",
    "        return self.__status == 1"
   ]
  },
  {
   "cell_type": "code",
   "execution_count": null,
   "metadata": {},
   "outputs": [
    {
     "name": "stdout",
     "output_type": "stream",
     "text": [
      "1 program hello world Eric 3\n",
      "1 : program hello world (3 hours), programmer Eric NOT FINISHED\n",
      "False\n",
      "1 : program hello world (3 hours), programmer Eric FINISHED\n",
      "True\n",
      "2 : program webstore (10 hours), programmer Adele NOT FINISHED\n",
      "3 : program mobile app for workload accounting (25 hours), programmer Eric NOT FINISHED\n"
     ]
    }
   ],
   "source": [
    "t1 = Task(\"program hello world\", \"Eric\", 3)\n",
    "print(t1.id, t1.description, t1.programmer, t1.workload)\n",
    "print(t1)\n",
    "print(t1.is_finished())\n",
    "t1.mark_finished()\n",
    "print(t1)\n",
    "print(t1.is_finished())\n",
    "t2 = Task(\"program webstore\", \"Adele\", 10)\n",
    "t3 = Task(\"program mobile app for workload accounting\", \"Eric\", 25)\n",
    "print(t2)\n",
    "print(t3)\n"
   ]
  },
  {
   "cell_type": "markdown",
   "metadata": {},
   "source": [
    "### Part 2: OrderBook \n",
    "Please write a class named OrderBook that collects all the tasks ordered from a software \n",
    "company. The tasks should be created using the Task class you implemented in Part 1. \n",
    "Your class should contain the following methods: \n",
    "- A method to add a new order to the OrderBook. The OrderBook stores the orders internally as Task objects. The method should take a description, a programmer and a workload as arguments. \n",
    "- A method that returns a list of all the tasks stored in the OrderBook. \n",
    "- A method that returns a list of the names of all the programmers w"
   ]
  },
  {
   "cell_type": "code",
   "execution_count": null,
   "metadata": {},
   "outputs": [],
   "source": [
    "\n",
    "class OrderBook:\n",
    "    \"\"\"Class that collects all the tasks ordered from a software company\"\"\"\n",
    "\n",
    "    def __init__(self):\n",
    "        self.__orders = []\n",
    "\n",
    "    def add_order(self, description, programmer, workload):\n",
    "        \"\"\"Add a new task to the order book.\"\"\"\n",
    "        task = Task(description, programmer, workload)\n",
    "        self.__orders.append(task)\n",
    "\n",
    "    def all_orders(self):\n",
    "        \"\"\"Return a list of all tasks.\"\"\"\n",
    "        return self.__orders\n",
    "    \n",
    "    def programmers(self):\n",
    "        \"\"\"Return a list of all programmers.\"\"\"\n",
    "        programmers = [task.programmer for task in self.__orders]\n",
    "        return set(programmers) "
   ]
  },
  {
   "cell_type": "code",
   "execution_count": null,
   "metadata": {},
   "outputs": [
    {
     "name": "stdout",
     "output_type": "stream",
     "text": [
      "4 : program webstore (10 hours), programmer Adele NOT FINISHED\n",
      "5 : program mobile app for workload accounting (25 hours), programmer Eric NOT FINISHED\n",
      "6 : program app for practising mathematics (100 hours), programmer Adele NOT FINISHED\n",
      "\n",
      "Adele\n",
      "Eric\n"
     ]
    }
   ],
   "source": [
    "orders = OrderBook()\n",
    "orders.add_order(\"program webstore\", \"Adele\", 10)\n",
    "orders.add_order(\"program mobile app for workload accounting\", \"Eric\", 25)\n",
    "orders.add_order(\"program app for practising mathematics\", \"Adele\", 100)\n",
    "\n",
    "for order in orders.all_orders():\n",
    "    print(order)\n",
    "\n",
    "print()\n",
    "\n",
    "for programmer in orders.programmers():\n",
    "    print(programmer)"
   ]
  },
  {
   "cell_type": "markdown",
   "metadata": {},
   "source": [
    "### Part 3: Listing task owners more efficiently \n",
    "In Part 2, you were asked to implement a method to return a list of programmers that are task \n",
    "owners. The previous implementation is not efficient since it only prints out the names of the \n",
    "programmers without knowing who works on what. Implement a new method that returns a \n",
    "dictionary of key-value pairs, with keys corresponding to the names of the different programmers \n",
    "and values corresponding to the list of task identifiers that are assigned to them. "
   ]
  },
  {
   "cell_type": "code",
   "execution_count": null,
   "metadata": {},
   "outputs": [],
   "source": [
    "\n",
    "class OrderBook:\n",
    "    \"\"\"Class  that collects all the tasks ordered from a software company\"\"\"\n",
    "\n",
    "    def __init__(self):\n",
    "        self.__orders = []\n",
    "\n",
    "    def add_order(self, description, programmer, workload):\n",
    "        \"\"\"Add a new task to the order book.\"\"\"\n",
    "        task = Task(description, programmer, workload)\n",
    "        self.__orders.append(task)\n",
    "\n",
    "    def all_orders(self):\n",
    "        \"\"\"Return a list of all tasks.\"\"\"\n",
    "        return self.__orders\n",
    "    \n",
    "    def programmers(self):\n",
    "        \"\"\"Return a list of all programmers.\"\"\"\n",
    "        programmers = [task.programmer for task in self.__orders]\n",
    "        return set(programmers) \n",
    "    \n",
    "    # part 3 \n",
    "    def programmers_tasks(self):\n",
    "        \"\"\"Return a dictionary of programmers and the list of task identifiers that are assigned to them\"\"\"\n",
    "        programmers_dict = {}\n",
    "        for task in self.__orders:\n",
    "            if task.programmer not in programmers_dict:\n",
    "                programmers_dict[task.programmer] = []\n",
    "            programmers_dict[task.programmer].append(task.id)\n",
    "        return programmers_dict"
   ]
  },
  {
   "cell_type": "code",
   "execution_count": null,
   "metadata": {},
   "outputs": [],
   "source": [
    "orders = OrderBook()\n",
    "orders.add_order(\"program webstore\", \"Adele\", 10)\n",
    "orders.add_order(\"program mobile app for workload accounting\", \"Eric\", 25)\n",
    "orders.add_order(\"program app for practising mathematics\", \"Adele\", 100)\n",
    "\n",
    "for programmer, tasks in orders.programmers_tasks().items():\n",
    "    print(f\"{programmer}: {tasks}\")"
   ]
  },
  {
   "cell_type": "code",
   "execution_count": null,
   "metadata": {},
   "outputs": [
    {
     "name": "stdout",
     "output_type": "stream",
     "text": [
      "Adele: [13, 15]\n",
      "Eric: [14]\n"
     ]
    }
   ],
   "source": []
  },
  {
   "cell_type": "markdown",
   "metadata": {},
   "source": [
    "### Part 4: Additional features for OrderBook \n",
    "Please add the following methods to your OrderBook class definition: \n",
    "- A method that takes the id of the task as its argument and marks the relevant task as finished. If there is no task for the given id, the method should raise a ValueError exception. \n",
    "- A method that returns a list of the finished tasks from the OrderBook. \n",
    "- A method that returns a list of the unfinished tasks from the OrderBook. "
   ]
  },
  {
   "cell_type": "code",
   "execution_count": null,
   "metadata": {},
   "outputs": [],
   "source": [
    "\n",
    "class OrderBook:\n",
    "    \"\"\"Class  that collects all the tasks ordered from a software company\"\"\"\n",
    "\n",
    "    \n",
    "    def __init__(self):\n",
    "        self.__orders = []\n",
    "\n",
    "    def add_order(self, description, programmer, workload):\n",
    "        \"\"\"Add a new task to the order book.\"\"\"\n",
    "        task = Task(description, programmer, workload)\n",
    "        self.__orders.append(task)\n",
    "\n",
    "    def all_orders(self):\n",
    "        \"\"\"Return a list of all tasks.\"\"\"\n",
    "        return self.__orders\n",
    "    \n",
    "    def programmers(self):\n",
    "        \"\"\"Return a list of all programmers.\"\"\"\n",
    "        programmers = [task.programmer for task in self.__orders]\n",
    "        return set(programmers) \n",
    "    \n",
    "    # part 3 \n",
    "    def programmers_tasks(self):\n",
    "        \"\"\"Return a dictionary of programmers and the list of task identifiers that are assigned to them\"\"\"\n",
    "        programmers_dict = {}\n",
    "        for task in self.__orders:\n",
    "            if task.programmer not in programmers_dict:\n",
    "                programmers_dict[task.programmer] = []\n",
    "            programmers_dict[task.programmer].append(task.id)\n",
    "        return programmers_dict\n",
    "    \n",
    "    # part 4\n",
    "    def mark_finished(self, task_id):\n",
    "        for task in self.__orders:\n",
    "            if task.id == task_id:\n",
    "                task.mark_finished()\n",
    "    \n",
    "    def finished_orders(self):\n",
    "        return [task for task in self.__orders if task.is_finished() == True]\n",
    "\n",
    "    def unfinished_orders(self):\n",
    "        return [task for task in self.__orders if task.is_finished() == False]\n",
    "    \n"
   ]
  },
  {
   "cell_type": "code",
   "execution_count": 5,
   "metadata": {},
   "outputs": [
    {
     "name": "stdout",
     "output_type": "stream",
     "text": [
      "1 : program webstore (10 hours), programmer Adele FINISHED\n",
      "2 : program mobile app for workload accounting (25 hours), programmer Eric FINISHED\n",
      "3 : program app for practising mathematics (100 hours), programmer Adele NOT FINISHED\n"
     ]
    }
   ],
   "source": [
    "orders = OrderBook()\n",
    "orders.add_order(\"program webstore\", \"Adele\", 10)\n",
    "orders.add_order(\"program mobile app for workload accounting\", \"Eric\", 25)\n",
    "orders.add_order(\"program app for practising mathematics\", \"Adele\", 100)\n",
    "\n",
    "orders.mark_finished(1)\n",
    "orders.mark_finished(2)\n",
    "\n",
    "for order in orders.all_orders():\n",
    "    print(order)"
   ]
  },
  {
   "cell_type": "markdown",
   "metadata": {},
   "source": [
    "### Part 5: The finishing touches \n",
    "Please add a new method to your OrderBook class: status_of_programmer should take the name of a programmer and return a tuple. The tuple should contain the number of finished and \n",
    "unfinished tasks the programmer has assigned to them, along with the estimated hours in both \n",
    "categories. The first item in the tuple should be the number of finished tasks, the second item \n",
    "should be the number of unfinished tasks, and the third and fourth items should be the sums of \n",
    "workload estimates for the finished and unfinished tasks respectively. If a name is given for a \n",
    "programmer that does not exist, the method should raise a ValueError exception"
   ]
  },
  {
   "cell_type": "code",
   "execution_count": null,
   "metadata": {},
   "outputs": [],
   "source": [
    "\n",
    "class OrderBook:\n",
    "    \"\"\"Class  that collects all the tasks ordered from a software company\"\"\"\n",
    "\n",
    "    def __init__(self):\n",
    "        self.__orders = []\n",
    "\n",
    "    def add_order(self, description, programmer, workload):\n",
    "        \"\"\"Add a new task to the order book.\"\"\"\n",
    "        task = Task(description, programmer, workload)\n",
    "        self.__orders.append(task)\n",
    "\n",
    "    def all_orders(self):\n",
    "        \"\"\"Return a list of all tasks.\"\"\"\n",
    "        return self.__orders\n",
    "    \n",
    "    def programmers(self):\n",
    "        \"\"\"Return a list of all programmers.\"\"\"\n",
    "        programmers = [task.programmer for task in self.__orders]\n",
    "        return set(programmers) \n",
    "    \n",
    "    # part 3 \n",
    "    def programmers_tasks(self):\n",
    "        \"\"\"Return a dictionary of programmers and the list of task identifiers that are assigned to them\"\"\"\n",
    "        programmers_dict = {}\n",
    "        for task in self.__orders:\n",
    "            if task.programmer not in programmers_dict:\n",
    "                programmers_dict[task.programmer] = []\n",
    "            programmers_dict[task.programmer].append(task.id)\n",
    "        return programmers_dict\n",
    "    \n",
    "    # part 4\n",
    "    def mark_finished(self, task_id):\n",
    "        for task in self.__orders:\n",
    "            if task.id == task_id:\n",
    "                task.mark_finished()\n",
    "    \n",
    "    def finished_orders(self):\n",
    "        return [task for task in self.__orders if task.is_finished() == True]\n",
    "\n",
    "    def unfinished_orders(self):\n",
    "        return [task for task in self.__orders if task.is_finished() == False]\n",
    "        \n",
    "    # part 5\n",
    "    def status_of_programmer(self, programmer):\n",
    "        finished = 0\n",
    "        not_finished = 0\n",
    "        finished_workload = 0\n",
    "        not_finished_workload = 0\n",
    "\n",
    "\n",
    "        if programmer not in self.programmers():\n",
    "            raise ValueError(\"Programmer \" + programmer + \" not found\")\n",
    "        \n",
    "        tasks = [task for task in self.__orders if task.programmer == programmer]\n",
    "        for task in tasks:\n",
    "            if task.is_finished():\n",
    "                finished += 1\n",
    "                finished_workload += task.workload\n",
    "            else:\n",
    "                not_finished += 1\n",
    "                not_finished_workload += task.workload\n",
    "        return (finished, not_finished, finished_workload, not_finished_workload)\n",
    "    "
   ]
  },
  {
   "cell_type": "code",
   "execution_count": null,
   "metadata": {},
   "outputs": [],
   "source": [
    "orders = OrderBook()\n",
    "orders.add_order(\"program webstore\", \"Adele\", 10)\n",
    "orders.add_order(\"program mobile app for workload accounting\", \"Adele\", 25)\n",
    "orders.add_order(\"program app for practising mathematics\", \"Adele\", 100)\n",
    "orders.add_order(\"program the next facebook\", \"Eric\", 1000)\n",
    "\n",
    "orders.mark_finished(1)\n",
    "orders.mark_finished(2)\n",
    "\n",
    "status = orders.status_of_programmer(\"Adele\")\n",
    "print(status)"
   ]
  }
 ],
 "metadata": {
  "kernelspec": {
   "display_name": "base",
   "language": "python",
   "name": "python3"
  },
  "language_info": {
   "codemirror_mode": {
    "name": "ipython",
    "version": 3
   },
   "file_extension": ".py",
   "mimetype": "text/x-python",
   "name": "python",
   "nbconvert_exporter": "python",
   "pygments_lexer": "ipython3",
   "version": "3.12.4"
  }
 },
 "nbformat": 4,
 "nbformat_minor": 2
}
