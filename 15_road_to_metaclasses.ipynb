{
 "cells": [
  {
   "cell_type": "markdown",
   "metadata": {},
   "source": [
    "## Motivation for Metaclasses\n",
    "We want to provide some incentive or motivation for the use of metaclasses. To demonstrate some design problems which can be solved by metaclasses, we will introduce and design a bunch of philosopher classes. Each philosopher class (Philosopher1, Philosopher2, and so on) need the same \"set\" of methods (in our example just one, i.e. \"the_answer\") as the basis for his or her pondering and brooding.\n",
    "\n",
    "A redundant way to implement the classes would be having the same code in every philospher class:"
   ]
  },
  {
   "cell_type": "code",
   "execution_count": 2,
   "metadata": {},
   "outputs": [
    {
     "name": "stdout",
     "output_type": "stream",
     "text": [
      "Plato's answer: 42\n",
      "Kant's answer: 42\n"
     ]
    }
   ],
   "source": [
    "class Philosopher1(object): \n",
    "    \n",
    "    def the_answer(self, *args):              \n",
    "        return 42\n",
    "\n",
    "class Philosopher2(object): \n",
    "\n",
    "    def the_answer(self, *args):              \n",
    "        return 42\n",
    "\n",
    "class Philosopher3(object): \n",
    "\n",
    "    def the_answer(self, *args):              \n",
    "        return 42\n",
    "\n",
    "plato = Philosopher1()\n",
    "print (\"Plato's answer:\", plato.the_answer())\n",
    "\n",
    "kant = Philosopher2()\n",
    "# let's see what Kant has to say :-)\n",
    "print (\"Kant's answer:\", kant.the_answer())"
   ]
  },
  {
   "cell_type": "markdown",
   "metadata": {},
   "source": [
    "We can see that we have multiple copies of the method \"the_answer\". This is error prone and tedious to maintain, of course.\n",
    "\n",
    "From what we know so far, the easiest way to accomplish our goal without creating redundant code would be designing a base which contains \"the_answer\" as a method. Now each Philosopher class inherits from this base class:"
   ]
  },
  {
   "cell_type": "code",
   "execution_count": 3,
   "metadata": {},
   "outputs": [
    {
     "name": "stdout",
     "output_type": "stream",
     "text": [
      "Plato's answer: 42\n",
      "Kant's answer: 42\n"
     ]
    }
   ],
   "source": [
    "class Answers(object):\n",
    "\n",
    "    def the_answer(self, *args):              \n",
    "        return 42\n",
    "    \n",
    "\n",
    "class Philosopher1(Answers): \n",
    "    pass\n",
    "\n",
    "class Philosopher2(Answers): \n",
    "    pass\n",
    "\n",
    "class Philosopher3(Answers): \n",
    "    pass\n",
    "\n",
    "plato = Philosopher1()\n",
    "print(\"Plato's answer:\", plato.the_answer())\n",
    "\n",
    "kant = Philosopher2()\n",
    "# let's see what Kant has to say :-)\n",
    "print(\"Kant's answer:\", kant.the_answer())"
   ]
  },
  {
   "cell_type": "markdown",
   "metadata": {},
   "source": [
    "The way we have designed our classes, each Philosopher class will always have a method \"the_answer\". Let's assume we don't know a priori if we want or need this method. Let's assume that the decision, if the classes have to be augmented, can only be made at runtime. This decision might depend on configuration files, user input or some calculations."
   ]
  },
  {
   "cell_type": "code",
   "execution_count": 6,
   "metadata": {},
   "outputs": [
    {
     "name": "stdout",
     "output_type": "stream",
     "text": [
      "Do you need 'the answer'? (y/n): y\n",
      "Plato's answer: 42\n",
      "Kant's answer: 42\n"
     ]
    }
   ],
   "source": [
    "# the following variable would be set as the result of a runtime calculation:\n",
    "x = input(\"Do you need 'the answer'? (y/n): \")\n",
    "if x==\"y\":\n",
    "    required = True\n",
    "else:\n",
    "    required = False\n",
    "    \n",
    "def the_answer(self, *args):              \n",
    "        return 42\n",
    "\n",
    "class Philosopher1(object): \n",
    "    pass\n",
    "if required:\n",
    "    Philosopher1.the_answer = the_answer\n",
    "\n",
    "class Philosopher2(object): \n",
    "    pass\n",
    "if required:\n",
    "    Philosopher2.the_answer = the_answer\n",
    "\n",
    "class Philosopher3(object): \n",
    "    pass\n",
    "if required:\n",
    "    Philosopher3.the_answer = the_answer\n",
    "    \n",
    "    \n",
    "plato = Philosopher1()\n",
    "kant = Philosopher2()\n",
    "\n",
    "# let's see what Plato and Kant have to say :-)\n",
    "if required:\n",
    "    print(\"Plato's answer:\", plato.the_answer())\n",
    "    print(\"Kant's answer:\", kant.the_answer()) \n",
    "else:\n",
    "    print(\"The silence of the philosphers\")"
   ]
  },
  {
   "cell_type": "markdown",
   "metadata": {},
   "source": [
    "Even though this is another solution to our problem, there are still some serious drawbacks. It's error-prone, because we have to add the same code to every class and it seems likely that we might forget it. Besides this it's getting hardly manageable and maybe even confusing, if there are many methods we want to add.\n",
    "\n",
    "We can improve our approach by defining a manager function and avoiding redundant code this way. The manager function will be used to augment the classes conditionally."
   ]
  },
  {
   "cell_type": "code",
   "execution_count": 7,
   "metadata": {},
   "outputs": [
    {
     "name": "stdout",
     "output_type": "stream",
     "text": [
      "Do you need 'the answer'? (y/n): y\n",
      "Plato's answer: 42\n",
      "Kant's answer: 42\n"
     ]
    }
   ],
   "source": [
    "# the following variable would be set as the result of a runtime calculation:\n",
    "x = input(\"Do you need 'the answer'? (y/n): \")\n",
    "if x==\"y\":\n",
    "    required = True\n",
    "else:\n",
    "    required = False\n",
    "    \n",
    "\n",
    "def the_answer(self, *args):              \n",
    "        return 42\n",
    "\n",
    "# manager function\n",
    "def augment_answer(cls):                      \n",
    "    if required:\n",
    "        cls.the_answer = the_answer\n",
    "        \n",
    "    \n",
    "class Philosopher1(object): \n",
    "    pass\n",
    "augment_answer(Philosopher1)\n",
    "\n",
    "class Philosopher2(object): \n",
    "    pass\n",
    "augment_answer(Philosopher2)\n",
    "\n",
    "class Philosopher3(object): \n",
    "    pass\n",
    "augment_answer(Philosopher3)\n",
    "    \n",
    "    \n",
    "plato = Philosopher1()\n",
    "kant = Philosopher2()\n",
    "\n",
    "# let's see what Plato and Kant have to say :-)\n",
    "if required:\n",
    "    print(\"Plato's answer:\", plato.the_answer())\n",
    "    print(\"Kant's answer:\", kant.the_answer())\n",
    "else:\n",
    "    print(\"The silence of the philosphers\")"
   ]
  },
  {
   "cell_type": "markdown",
   "metadata": {},
   "source": [
    "This is again useful to solve our problem, but we, the class designers, must be careful not to forget to call the manager function \"augment_answer\". The code should be executed automatically. We need a way to make sure that \"some\" code might be executed automatically after the end of a class definition."
   ]
  },
  {
   "cell_type": "code",
   "execution_count": 8,
   "metadata": {},
   "outputs": [
    {
     "name": "stdout",
     "output_type": "stream",
     "text": [
      "Do you need 'the answer'? (y/n): y\n",
      "Plato's answer: 42\n",
      "Kant's answer: 42\n"
     ]
    }
   ],
   "source": [
    "# the following variable would be set as the result of a runtime calculation:\n",
    "x = input(\"Do you need 'the answer'? (y/n): \")\n",
    "if x==\"y\":\n",
    "    required = True\n",
    "else:\n",
    "    required = False\n",
    "def the_answer(self, *args):              \n",
    "        return 42\n",
    "\n",
    "def augment_answer(cls):                      \n",
    "    if required:\n",
    "        cls.the_answer = the_answer\n",
    "    # we have to return the class now:\n",
    "    return cls\n",
    "        \n",
    "@augment_answer\n",
    "class Philosopher1(object): \n",
    "    pass\n",
    "\n",
    "@augment_answer\n",
    "class Philosopher2(object): \n",
    "    pass\n",
    "\n",
    "@augment_answer\n",
    "class Philosopher3(object): \n",
    "    pass\n",
    "    \n",
    "plato = Philosopher1()\n",
    "kant = Philosopher2()\n",
    "    \n",
    "# let's see what Plato and Kant have to say :-)\n",
    "if required:\n",
    "    print(\"Plato's answer:\", plato.the_answer())\n",
    "    print(\"Kant's answer:\", kant.the_answer())\n",
    "else:\n",
    "    print(\"The silence of the philosphers\")"
   ]
  },
  {
   "cell_type": "markdown",
   "metadata": {},
   "source": [
    "**Metaclasses** can also be used for this purpose as we will learn in the next chapter."
   ]
  }
 ],
 "metadata": {
  "kernelspec": {
   "display_name": "Python 3",
   "language": "python",
   "name": "python3"
  },
  "language_info": {
   "codemirror_mode": {
    "name": "ipython",
    "version": 3
   },
   "file_extension": ".py",
   "mimetype": "text/x-python",
   "name": "python",
   "nbconvert_exporter": "python",
   "pygments_lexer": "ipython3",
   "version": "3.7.3"
  }
 },
 "nbformat": 4,
 "nbformat_minor": 2
}
