{
 "cells": [
  {
   "cell_type": "markdown",
   "metadata": {},
   "source": [
    "**A metaclass is a class whose instances are classes**. Like an \"ordinary\" class defines the behavior of the instances of the class, a metaclass defines the behavior of classes and their instances.\n",
    "\n",
    "Metaclasses are not supported by every object oriented programming languages. Python supports them.\n",
    "\n",
    "Some programmers see metaclasses in Python as \"solutions waiting or looking for a problem\".\n",
    "\n",
    "There are numerous use cases for metaclasses. Here are a few:\n",
    "- Logging and profiling\n",
    "- Interface checking\n",
    "- Registering classes at creation time\n",
    "- Automatically adding new methods\n",
    "- Automatic property creation\n",
    "- Proxies\n",
    "- Automatic resource locking/synchronization"
   ]
  },
  {
   "cell_type": "markdown",
   "metadata": {},
   "source": [
    "## Defining Metaclasses\n",
    "Principially, metaclasses are defined like any other Python class, but they are classes that inherit from \"type\". Another difference is that a metaclass is called automatically when the class statement using a metaclass ends. In other words: If no \"metaclass\" keyword is passed after the base classes (there may be no base classes either) of the class header, type() (i.e. ```__call__``` of type) will be called. If on the other hand a metaclass keyword is used, the class assigned to it will be called instead of type.\n",
    "\n",
    "Now we create a very simple metaclass. It's good for nothing, except that it will print the content of its arguments in the ```__new__``` method and returns the results of the ```type.__new__``` call:"
   ]
  },
  {
   "cell_type": "code",
   "execution_count": 1,
   "metadata": {},
   "outputs": [],
   "source": [
    "class LittleMeta(type):\n",
    "    def __new__(cls, clsname, superclasses, attributedict):\n",
    "        print(\"clsname: \", clsname)\n",
    "        print(\"superclasses: \", superclasses)\n",
    "        print(\"attributedict: \", attributedict)\n",
    "        return type.__new__(cls, clsname, superclasses, attributedict)"
   ]
  },
  {
   "cell_type": "markdown",
   "metadata": {},
   "source": [
    "We will use the metaclass \"LittleMeta\" in the following example:"
   ]
  },
  {
   "cell_type": "code",
   "execution_count": 2,
   "metadata": {},
   "outputs": [
    {
     "name": "stdout",
     "output_type": "stream",
     "text": [
      "clsname:  A\n",
      "superclasses:  (<class '__main__.S'>,)\n",
      "attributedict:  {'__module__': '__main__', '__qualname__': 'A'}\n"
     ]
    }
   ],
   "source": [
    "class S:\n",
    "    pass\n",
    "\n",
    "\n",
    "class A(S, metaclass=LittleMeta):\n",
    "    pass\n",
    "\n",
    "\n",
    "a = A()"
   ]
  },
  {
   "cell_type": "markdown",
   "metadata": {},
   "source": [
    "We can see ```LittleMeta.__new__``` has been called and not ```type.__new__```.\n",
    "\n",
    "Picking up where we left off with our Philosophers (see Notebook 15): We define a metaclass ```EssentialAnswers``` which is capable of automatically including our ```augment_answer``` method:"
   ]
  },
  {
   "cell_type": "code",
   "execution_count": 3,
   "metadata": {},
   "outputs": [
    {
     "name": "stdout",
     "output_type": "stream",
     "text": [
      "Do you need the answer? (y/n): y\n",
      "Plato's answer: 42\n",
      "Kant's answer: 42\n"
     ]
    }
   ],
   "source": [
    "x = input(\"Do you need the answer? (y/n): \")\n",
    "if x.lower() == \"y\":\n",
    "    required = True\n",
    "else:\n",
    "    required = False\n",
    "\n",
    "    \n",
    "def the_answer(self, *args):              \n",
    "        return 42\n",
    "\n",
    "    \n",
    "class EssentialAnswers(type):\n",
    "    \n",
    "    def __init__(cls, clsname, superclasses, attributedict):\n",
    "        if required:\n",
    "            cls.the_answer = the_answer\n",
    "                           \n",
    "    \n",
    "class Philosopher1(metaclass=EssentialAnswers): \n",
    "    pass\n",
    "\n",
    "\n",
    "class Philosopher2(metaclass=EssentialAnswers): \n",
    "    pass\n",
    "\n",
    "\n",
    "class Philosopher3(metaclass=EssentialAnswers): \n",
    "    pass\n",
    "    \n",
    "    \n",
    "plato = Philosopher1()\n",
    "print(\"Plato's answer:\", plato.the_answer())\n",
    "\n",
    "\n",
    "kant = Philosopher2()\n",
    "# let's see what Kant has to say :-)\n",
    "print(\"Kant's answer:\", kant.the_answer())"
   ]
  },
  {
   "cell_type": "markdown",
   "metadata": {},
   "source": [
    "Remember that after the class definition has been processed, Python calls\n",
    "```\n",
    "type(classname, superclasses, attributes_dict)\n",
    "```\n",
    "This is not the case if a metaclass has been declared in the header. That is what we have done in our previous example. Our classes ```Philosopher1```, ```Philosopher2``` and ```Philosopher3``` have been hooked to the metaclass ```EssentialAnswers```. That's why ```EssentialAnswer``` will be called instead of type:\n",
    "```\n",
    "EssentialAnswer(classname, superclasses, attributes_dict)\n",
    "```\n",
    "To be precise, the arguments of the calls will be set to the following values:\n",
    "```\n",
    "EssentialAnswer('Philosopher1', \n",
    "                (), \n",
    "                {'__module__': '__main__', '__qualname__': 'Philosopher1'})\n",
    "```\n",
    "The other philosopher classes are treated in an analogous way."
   ]
  },
  {
   "cell_type": "markdown",
   "metadata": {},
   "source": [
    "## Creating Singletons using Metaclasses\n",
    "**The singleton pattern is a design pattern that restricts the instantiation of a class to one object**. It is used in cases where exactly one object is needed. The concept can be generalized to restrict the instantiation to a certain or fixed number of objects. The term stems from mathematics, where a singleton (also called a unit set) is used for sets with exactly one element."
   ]
  },
  {
   "cell_type": "code",
   "execution_count": 4,
   "metadata": {},
   "outputs": [
    {
     "name": "stdout",
     "output_type": "stream",
     "text": [
      "Same instance? True\n",
      "Same instance? False\n"
     ]
    }
   ],
   "source": [
    "class Singleton(type):\n",
    "    _instances = {}\n",
    "    def __call__(cls, *args, **kwargs):\n",
    "        if cls not in cls._instances:\n",
    "            cls._instances[cls] = super(Singleton, cls).__call__(*args, **kwargs)\n",
    "        return cls._instances[cls]\n",
    "    \n",
    "    \n",
    "class SingletonClass(metaclass=Singleton):\n",
    "    pass\n",
    "\n",
    "\n",
    "class RegularClass():\n",
    "    pass\n",
    "\n",
    "\n",
    "x = SingletonClass()\n",
    "y = SingletonClass()\n",
    "print(\"Same instance?\", x == y)\n",
    "\n",
    "\n",
    "x = RegularClass()\n",
    "y = RegularClass()\n",
    "print(\"Same instance?\", x == y)"
   ]
  },
  {
   "cell_type": "markdown",
   "metadata": {},
   "source": [
    "## Creating Singletons using Singleton class\n",
    "Alternatively, we can create Singleton classes by inheriting from a Singleton class, which can be defined like this:"
   ]
  },
  {
   "cell_type": "code",
   "execution_count": 5,
   "metadata": {},
   "outputs": [
    {
     "name": "stdout",
     "output_type": "stream",
     "text": [
      "Same class? True\n",
      "Same class? False\n"
     ]
    }
   ],
   "source": [
    "class Singleton(object):\n",
    "    _instance = None\n",
    "    def __new__(cls, *args, **kwargs):\n",
    "        if not cls._instance:\n",
    "            cls._instance = object.__new__(cls, *args, **kwargs)\n",
    "        return cls._instance\n",
    "\n",
    "    \n",
    "class SingletonClass(Singleton):\n",
    "    pass\n",
    "\n",
    "class RegularClass():\n",
    "    pass\n",
    "\n",
    "\n",
    "x = SingletonClass()\n",
    "y = SingletonClass()\n",
    "print(\"Same class?\", x == y)\n",
    "\n",
    "\n",
    "x = RegularClass()\n",
    "y = RegularClass()\n",
    "print(\"Same class?\", x == y)"
   ]
  }
 ],
 "metadata": {
  "kernelspec": {
   "display_name": "Python 3",
   "language": "python",
   "name": "python3"
  },
  "language_info": {
   "codemirror_mode": {
    "name": "ipython",
    "version": 3
   },
   "file_extension": ".py",
   "mimetype": "text/x-python",
   "name": "python",
   "nbconvert_exporter": "python",
   "pygments_lexer": "ipython3",
   "version": "3.7.3"
  }
 },
 "nbformat": 4,
 "nbformat_minor": 2
}
