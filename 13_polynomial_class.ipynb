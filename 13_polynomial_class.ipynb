{
 "cells": [
  {
   "cell_type": "markdown",
   "metadata": {},
   "source": [
    "## Introduction\n",
    "You've probably already encountered the terms **polynomial** and **polynomial function**. This chapter is completely on polynomials, i.e. we will define a class to define polynomials. The following is an example of a polynomial with the degree 4:\n",
    "\n",
    "$ p(x) = x^4 - 4 \\cdot x^2 + 3 \\cdot x $\n",
    "\n",
    "You will find out that there are lots of similarities to integers. We will define various arithmetic operations for polynomials in our class, like addition, subtraction, multiplication and division. Our polynomial class will also provide means to calculate the derivation and the integral of polynomials. We will not miss out on plotting polynomials.\n",
    "\n",
    "There is a lot of beauty in polynomials and, above all, in how they can be implemented as a Python class."
   ]
  },
  {
   "cell_type": "markdown",
   "metadata": {},
   "source": [
    "## Short Mathematical Introduction\n",
    "We will only deal with polynomial in a single indeterminate (also called variable) x. A general form of a polynomial in a single indeterminate looks like this:\n",
    "\n",
    "$ a_n \\cdot x^n + a_{n-1} \\cdot x^{n-1} + \\ldots + a_2 \\cdot x^2 + a_1 \\cdot x + a_0 $\n",
    "\n",
    "where $ a_0, a_1, ... a_n $ are the constants (non-negative integers) and $ x $ is the indeterminate or variable. The term \"indeterminate\" means that $ x $ represents no particular value, but any value may be substituted for it.\n",
    "\n",
    "This expression is usually written with the summation operator:\n",
    "\n",
    "$ \\sum_{k=0}^{n} a_k \\cdot x^k = a_n \\cdot x^n + a_{n-1} \\cdot x^{n-1} + \\ldots + a_2 \\cdot x^2 + a_1 \\cdot x + a_0 $\n",
    "\n",
    "A polynomial function is a function that can be defined by evaluating a polynomial. A function f of one argument can be defined as:\n",
    "\n",
    "$ f(x) = \\sum_{k=0}^{n} a_k \\cdot x^k $"
   ]
  },
  {
   "cell_type": "markdown",
   "metadata": {},
   "source": [
    "## Polynomial Functions with Python\n",
    "It's easy to implement polynomial functions in Python. As an example we define the polynomial function given in the introduction of this chapter, i.e. $ p(x) = x^4 - 4 \\cdot x^2 + 3 \\cdot x $.\n",
    "\n",
    "The Python code for this polynomial function looks like this:"
   ]
  },
  {
   "cell_type": "code",
   "execution_count": 1,
   "metadata": {},
   "outputs": [],
   "source": [
    "def p(x):\n",
    "    return x**4 - 4*x**2 + 3*x"
   ]
  },
  {
   "cell_type": "code",
   "execution_count": 4,
   "metadata": {},
   "outputs": [
    {
     "name": "stdout",
     "output_type": "stream",
     "text": [
      "x = -1 ; p(x) = -6\n",
      "x = 0 ; p(x) = 0\n",
      "x = 2 ; p(x) = 6\n",
      "x = 3.4 ; p(x) = 97.59359999999998\n"
     ]
    }
   ],
   "source": [
    "# we can call the function like any other function\n",
    "for x in [-1, 0, 2, 3.4]:\n",
    "    print(\"x =\", x, \";\", \"p(x) =\", p(x))"
   ]
  },
  {
   "cell_type": "code",
   "execution_count": 5,
   "metadata": {},
   "outputs": [
    {
     "data": {
      "image/png": "[encoded data removed]",
      "text/plain": [
       "<Figure size 432x288 with 1 Axes>"
      ]
     },
     "metadata": {
      "needs_background": "light"
     },
     "output_type": "display_data"
    }
   ],
   "source": [
    "# now let's plot it\n",
    "import numpy as np\n",
    "import matplotlib.pyplot as plt\n",
    "\n",
    "X = np.linspace(-3, 3, 50, endpoint=True)\n",
    "F = p(X)\n",
    "plt.plot(X,F)\n",
    "\n",
    "plt.show()"
   ]
  },
  {
   "cell_type": "markdown",
   "metadata": {},
   "source": [
    "## Polynomial Class\n",
    "We will now define a class for polynomial functions. A polynomial is uniquely determined by its coefficients. This means, an instance of our polynomial class needs a list or tuple to define the coefficients."
   ]
  },
  {
   "cell_type": "code",
   "execution_count": 6,
   "metadata": {},
   "outputs": [],
   "source": [
    "class Polynomial:\n",
    "    \n",
    "    def __init__(self, *coefficients):\n",
    "        \"\"\" input: coefficients are in the form a_n, ...a_1, a_0 \n",
    "        \"\"\"\n",
    "        self.coefficients = list(coefficients) # tuple is turned into a list\n",
    "     \n",
    "    def __repr__(self):\n",
    "        \"\"\"\n",
    "        method to return the canonical string representation \n",
    "        of a polynomial.\n",
    "        \"\"\"\n",
    "        return \"Polynomial\" + str(tuple(self.coefficients))"
   ]
  },
  {
   "cell_type": "code",
   "execution_count": 7,
   "metadata": {},
   "outputs": [
    {
     "name": "stdout",
     "output_type": "stream",
     "text": [
      "Polynomial(1, 0, -4, 3, 0)\n",
      "Polynomial(1, 0, -4, 3, 0)\n"
     ]
    }
   ],
   "source": [
    "# We can then instantiate the polynomial of our previous example polynomial function like this\n",
    "p = Polynomial(1, 0, -4, 3, 0)\n",
    "print(p)\n",
    "\n",
    "p2 = eval(repr(p))\n",
    "print(p2)"
   ]
  },
  {
   "cell_type": "markdown",
   "metadata": {},
   "source": [
    "Having defined the canonical string representation of a Polynomial with the ```repr``` function, we also want to define an output which could be used to create a version which is more friendly for people. We write a LaTex represention which can be used to print the function in a beautiful way:"
   ]
  },
  {
   "cell_type": "code",
   "execution_count": 8,
   "metadata": {},
   "outputs": [],
   "source": [
    "class Polynomial:\n",
    "    \n",
    "    \n",
    "    def __init__(self, *coefficients):\n",
    "        \"\"\" input: coefficients are in the form a_n, ...a_1, a_0 \n",
    "        \"\"\"\n",
    "        self.coefficients = list(coefficients) # tuple is turned into a list\n",
    "     \n",
    "    \n",
    "    def __repr__(self):\n",
    "        \"\"\"\n",
    "        method to return the canonical string representation \n",
    "        of a polynomial.\n",
    "        \"\"\"\n",
    "        return \"Polynomial\" + str(tuple(self.coefficients))\n",
    "\n",
    "    \n",
    "    def __str__(self):\n",
    "        \n",
    "        def x_expr(degree):\n",
    "            if degree == 0:\n",
    "                res = \"\"\n",
    "            elif degree == 1:\n",
    "                res = \"x\"\n",
    "            else:\n",
    "                res = \"x^\"+str(degree)\n",
    "            return res\n",
    "\n",
    "        degree = len(self.coefficients) - 1\n",
    "        res = \"\"\n",
    "\n",
    "        for i in range(0, degree+1):\n",
    "            coeff = self.coefficients[i]\n",
    "            # nothing has to be done if coeff is 0:\n",
    "            if abs(coeff) == 1 and i < degree:\n",
    "                # 1 in front of x shouldn't occur, e.g. x instead of 1x\n",
    "                # but we need the plus or minus sign:\n",
    "                res += f\"{'+' if coeff>0 else '-'}{x_expr(degree-i)}\"  \n",
    "            elif coeff != 0:\n",
    "                res += f\"{coeff:+g}{x_expr(degree-i)}\" \n",
    "\n",
    "        return res.lstrip('+')    # removing leading '+'"
   ]
  },
  {
   "cell_type": "code",
   "execution_count": 9,
   "metadata": {},
   "outputs": [
    {
     "name": "stdout",
     "output_type": "stream",
     "text": [
      "$p_0 = x^4-4x^2+3x$\n",
      "$p_1 = 2x$\n",
      "$p_2 = 4x^2+x-1$\n",
      "$p_3 = 3x^4-5x^2+2x+7$\n",
      "$p_4 = -42$\n"
     ]
    }
   ],
   "source": [
    "polys = [Polynomial(1, 0, -4, 3, 0),\n",
    "         Polynomial(2, 0),\n",
    "         Polynomial(4, 1, -1),\n",
    "         Polynomial(3, 0, -5, 2, 7),\n",
    "         Polynomial(-42)]\n",
    "\n",
    "# output suitable for usage in LaTeX:\n",
    "for count, poly in enumerate(polys):\n",
    "    print(f\"$p_{count} = {str(poly)}$\")"
   ]
  },
  {
   "cell_type": "markdown",
   "metadata": {},
   "source": [
    "If we use this in LaTeX it will look like this:\n",
    "\n",
    "$p_0 = x^4-4x^2+3x$\n",
    "\n",
    "$p_1 = 2x$\n",
    "\n",
    "$p_2 = 4x^2+x-1$\n",
    "\n",
    "$p_3 = 3x^4-5x^2+2x+7$\n",
    "\n",
    "$p_4 = -42$"
   ]
  },
  {
   "cell_type": "markdown",
   "metadata": {},
   "source": [
    "So far, we have defined **polynomials**, but what we actually need are **polynomial functions**. For this purpose, we turn instances of the Polynomial class into **callables** by defining the **call** method."
   ]
  },
  {
   "cell_type": "code",
   "execution_count": 10,
   "metadata": {},
   "outputs": [],
   "source": [
    "class Polynomial:\n",
    "    \n",
    "    def __init__(self, *coefficients):\n",
    "        \"\"\" input: coefficients are in the form a_n, ...a_1, a_0 \n",
    "        \"\"\"\n",
    "        self.coefficients = list(coefficients) # tuple is turned into a list\n",
    "    \n",
    "    # The __repr__ and __str__ method can be included here,\n",
    "    # but is not necessary for the immediately following code\n",
    "            \n",
    "    def __call__(self, x):    \n",
    "        res = 0\n",
    "        for index, coeff in enumerate(self.coefficients[::-1]):\n",
    "            res += coeff * x** index\n",
    "        return res "
   ]
  },
  {
   "cell_type": "markdown",
   "metadata": {},
   "source": [
    "It is possible now to call an instance of our class like a function. We call it with an argument and the instance - which is a callable - behaves like a polynomial function:"
   ]
  },
  {
   "cell_type": "code",
   "execution_count": 12,
   "metadata": {},
   "outputs": [
    {
     "name": "stdout",
     "output_type": "stream",
     "text": [
      "<__main__.Polynomial object at 0x000002AC4B00A5F8>\n",
      "x = -3 ; p(x) = 193\n",
      "x = -2 ; p(x) = 25\n",
      "x = -1 ; p(x) = -3\n",
      "x = 0 ; p(x) = 1\n",
      "x = 1 ; p(x) = 1\n",
      "x = 2 ; p(x) = 33\n"
     ]
    }
   ],
   "source": [
    "p = Polynomial(3, 0, -5, 2, 1)\n",
    "print(p)\n",
    "\n",
    "for x in range(-3, 3):\n",
    "    print(\"x =\", x, \";\", \"p(x) =\", p(x))"
   ]
  },
  {
   "cell_type": "code",
   "execution_count": 13,
   "metadata": {},
   "outputs": [
    {
     "data": {
      "image/png": "[encoded data removed]",
      "text/plain": [
       "<Figure size 432x288 with 1 Axes>"
      ]
     },
     "metadata": {
      "needs_background": "light"
     },
     "output_type": "display_data"
    }
   ],
   "source": [
    "# Just for fun, let's plot the previously defined function\n",
    "import matplotlib.pyplot as plt\n",
    "\n",
    "X = np.linspace(-1.5, 1.5, 50, endpoint=True)\n",
    "F = p(X)\n",
    "plt.plot(X, F)\n",
    "\n",
    "plt.show()"
   ]
  },
  {
   "cell_type": "markdown",
   "metadata": {},
   "source": [
    "Before we further refine our class, let us use a numerically more efficient variant for the calculation of polynomials. We will use this algorithm in our ```__call__``` method.\n",
    "\n",
    "Every polynomial\n",
    "\n",
    "$ f(x) = \\sum_{k=0}^{n} a_k \\cdot x^k $\n",
    "\n",
    "can also be written in the form\n",
    "\n",
    "$ f(x) = (a_n x + x_{n-1})x + \\cdot + a_1)x + a_0 $\n",
    "\n",
    "To emperically see that they are equivalent, we rewrite our class definition, but call it ```Polynomial2``` so that we can use both versions:"
   ]
  },
  {
   "cell_type": "code",
   "execution_count": 14,
   "metadata": {},
   "outputs": [],
   "source": [
    "class Polynomial2:\n",
    "    \n",
    "    def __init__(self, *coefficients):\n",
    "        \"\"\" input: coefficients are in the form a_n, ...a_1, a_0 \n",
    "        \"\"\"\n",
    "        self.coefficients = list(coefficients) # tuple is turned into a list\n",
    "         \n",
    "    # The __repr__ and __str__ method can be included here,\n",
    "    # but is not necessary for the immediately following code\n",
    "    \n",
    "    def __call__(self, x):    \n",
    "        res = 0\n",
    "        for coeff in self.coefficients:\n",
    "            res = res * x + coeff\n",
    "        return res "
   ]
  },
  {
   "cell_type": "code",
   "execution_count": 15,
   "metadata": {},
   "outputs": [
    {
     "name": "stdout",
     "output_type": "stream",
     "text": [
      "True\n"
     ]
    }
   ],
   "source": [
    "# We will test both classes by comparing the results\n",
    "p1 = Polynomial(-4, 3, 0)\n",
    "p2 = Polynomial2(-4, 3, 0)\n",
    "res = all((p1(x)==p2(x) for x in range(-10, 10)))\n",
    "print(res)"
   ]
  },
  {
   "cell_type": "markdown",
   "metadata": {},
   "source": [
    "It is possible to define addition and subtractions for polynomials. All we have to do is to add or subtract the coefficients with the same exponents from both polynomials.\n",
    "\n",
    "If we have polynomial functions $ f(x) = \\sum_{k=0}^{n} a_k \\cdot x^k $ and $ g(x) = \\sum_{k=0}^{n} b_k \\cdot x^k $, the addition is defined as\n",
    "\n",
    "$ (f+g)(x) = \\sum_{k=0}^{n} (a_k + b_k) \\cdot x^k $\n",
    "\n",
    "and correspondingly the subtraction is defined as\n",
    "\n",
    "$ (f-g)(x) = \\sum_{k=0}^{n} (a_k - b_k) \\cdot x^k $\n",
    "\n",
    "Before we can add the methods ```__add__``` and ```__sub__```, which are necessary for addition and subtraction, we add a generator zip_longest(). It works similarly to zip for two parameters, but it does not stop if one of the iterators is exhausted but uses \"fillvalue\" instead."
   ]
  },
  {
   "cell_type": "code",
   "execution_count": 16,
   "metadata": {},
   "outputs": [
    {
     "name": "stdout",
     "output_type": "stream",
     "text": [
      "(2, -1)\n",
      "(0, 4)\n",
      "(0, 5)\n"
     ]
    }
   ],
   "source": [
    "def zip_longest(iter1, iter2, fillvalue=None):\n",
    "    \n",
    "    for i in range(max(len(iter1), len(iter2))):\n",
    "        if i >= len(iter1):\n",
    "            yield (fillvalue, iter2[i])\n",
    "        elif i >= len(iter2):\n",
    "            yield (iter1[i], fillvalue)\n",
    "        else:\n",
    "            yield (iter1[i], iter2[i])\n",
    "        i += 1\n",
    "\n",
    "p1 = (2,)\n",
    "p2 = (-1, 4, 5)\n",
    "for x in zip_longest(p1, p2, fillvalue=0):\n",
    "    print(x)"
   ]
  },
  {
   "cell_type": "markdown",
   "metadata": {},
   "source": [
    "We will add this generator to our class as a static method. We are now capable of adding the ```__add__``` and ```__sub__``` methods as well. We will need the generator ```zip_longest``` from ```itertools```. ```zip_longest``` takes and arbitrary number of iterables and a keyword parameter ```fillvalue```. It creates an iterator that aggregates elements from each of the iterables. If the iterables are of uneven length, missing values are filled-in with fillvalue. Iteration continues until the longest iterable is exhausted."
   ]
  },
  {
   "cell_type": "code",
   "execution_count": 17,
   "metadata": {},
   "outputs": [
    {
     "data": {
      "image/png": "[encoded data removed]",
      "text/plain": [
       "<Figure size 432x288 with 1 Axes>"
      ]
     },
     "metadata": {
      "needs_background": "light"
     },
     "output_type": "display_data"
    }
   ],
   "source": [
    "import numpy as np\n",
    "import matplotlib.pyplot as plt\n",
    "from itertools import zip_longest\n",
    "\n",
    "class Polynomial:\n",
    "    \n",
    "    def __init__(self, *coefficients):\n",
    "        \"\"\" input: coefficients are in the form a_n, ...a_1, a_0 \n",
    "        \"\"\"\n",
    "        self.coefficients = list(coefficients) # tuple is turned into a list\n",
    "     \n",
    "    def __repr__(self):\n",
    "        \"\"\"\n",
    "        method to return the canonical string representation \n",
    "        of a polynomial.\n",
    "   \n",
    "        \"\"\"\n",
    "        return \"Polynomial\" + str(self.coefficients)\n",
    "            \n",
    "    def __call__(self, x):    \n",
    "        res = 0\n",
    "        for coeff in self.coefficients:\n",
    "            res = res * x + coeff\n",
    "        return res \n",
    "    \n",
    "    def degree(self):\n",
    "        return len(self.coefficients) - 1 if len(self.coefficients) > 0 else 0  \n",
    "            \n",
    "    def __add__(self, other):\n",
    "        c1 = self.coefficients[::-1]\n",
    "        c2 = other.coefficients[::-1]\n",
    "        res = [sum(t) for t in zip_longest(c1, c2, fillvalue=0)]\n",
    "        return Polynomial(*res[::-1])\n",
    "    \n",
    "    def __sub__(self, other):\n",
    "        c1 = self.coefficients[::-1]\n",
    "        c2 = other.coefficients[::-1]\n",
    "        \n",
    "        res = [t1-t2 for t1, t2 in zip_longest(c1, c2, fillvalue=0)]\n",
    "        return Polynomial(*res[::-1])\n",
    "    \n",
    "\n",
    "            \n",
    "p1 = Polynomial(4, 0, -4, 3, 0)\n",
    "p2 = Polynomial(-0.8, 2.3, 0.5, 1, 0.2)\n",
    "\n",
    "p_sum = p1 + p2\n",
    "p_diff = p1 - p2\n",
    "\n",
    "X = np.linspace(-3, 3, 50, endpoint=True)\n",
    "F1 = p1(X)\n",
    "F2 = p2(X)\n",
    "F_sum = p_sum(X)\n",
    "F_diff = p_diff(X)\n",
    "plt.plot(X, F1, label=\"F1\")\n",
    "plt.plot(X, F2, label=\"F2\")\n",
    "plt.plot(X, F_sum, label=\"F_sum\")\n",
    "plt.plot(X, F_diff, label=\"F_diff\")\n",
    "\n",
    "plt.legend()\n",
    "plt.show()"
   ]
  },
  {
   "cell_type": "markdown",
   "metadata": {},
   "source": [
    "It is incredibly easy to add differentiation to our class. Mathematically, it is defined as\n",
    "\n",
    "$ f'(x) = \\sum_{k=0}^{n} k \\cdot a_k \\cdot x^{k-1} $\n",
    "\n",
    "if\n",
    "\n",
    "$ f(x) = \\sum_{k=0}^{n} a_k \\cdot x^k $\n",
    "\n",
    "This can be easily implemented in our method 'derivative':"
   ]
  },
  {
   "cell_type": "code",
   "execution_count": 60,
   "metadata": {},
   "outputs": [
    {
     "data": {
      "image/png": "[encoded data removed]",
      "text/plain": [
       "<Figure size 432x288 with 1 Axes>"
      ]
     },
     "metadata": {
      "needs_background": "light"
     },
     "output_type": "display_data"
    }
   ],
   "source": [
    "import numpy as np\n",
    "import matplotlib.pyplot as plt\n",
    "\n",
    "\n",
    "class Polynomial:\n",
    " \n",
    "\n",
    "    def __init__(self, *coefficients):\n",
    "        \"\"\" input: coefficients are in the form a_n, ...a_1, a_0 \n",
    "        \"\"\"\n",
    "        self.coefficients = list(coefficients) # tuple is turned into a list\n",
    "\n",
    "        \n",
    "    def __repr__(self):\n",
    "        \"\"\"\n",
    "        method to return the canonical string representation \n",
    "        of a polynomial.\n",
    "   \n",
    "        \"\"\"\n",
    "        return \"Polynomial\" + str(self.coefficients)\n",
    "\n",
    "    \n",
    "    def __call__(self, x):    \n",
    "        res = 0\n",
    "        for coeff in self.coefficients:\n",
    "            res = res * x + coeff\n",
    "        return res \n",
    "\n",
    "    \n",
    "    def degree(self):\n",
    "        return len(self.coefficients) - 1 if len(self.coefficients) > 0 else 0 \n",
    "\n",
    "    \n",
    "    def __add__(self, other):\n",
    "        c1 = self.coefficients[::-1]\n",
    "        c2 = other.coefficients[::-1]\n",
    "        res = [t1+t2 for t1, t2 in zip_longest(c1, c2, fillvalue=0)][::-1]\n",
    "        return Polynomial(*res)\n",
    "\n",
    "    \n",
    "    def __sub__(self, other):\n",
    "        c1 = self.coefficients[::-1]\n",
    "        c2 = other.coefficients[::-1]\n",
    "        res = [t1-t2 for t1, t2 in zip_longest(c1, c2, fillvalue=0)][::-1]\n",
    "        return Polynomial(*res)\n",
    " \n",
    "\n",
    "    def derivative(self):\n",
    "        derived_coeffs = []\n",
    "        exponent = len(self.coefficients) - 1\n",
    "        for i in range(len(self.coefficients)-1):\n",
    "            derived_coeffs.append(self.coefficients[i] * exponent)\n",
    "            exponent -= 1\n",
    "        return Polynomial(*derived_coeffs)\n",
    "\n",
    "    \n",
    "    def __str__(self):\n",
    "        \n",
    "        def x_expr(degree):\n",
    "            if degree == 0:\n",
    "                res = \"\"\n",
    "            elif degree == 1:\n",
    "                res = \"x\"\n",
    "            else:\n",
    "                res = \"x^\"+str(degree)\n",
    "            return res\n",
    "\n",
    "        degree = len(self.coefficients) - 1\n",
    "        res = \"\"\n",
    "\n",
    "        for i in range(0, degree+1):\n",
    "            coeff = self.coefficients[i]\n",
    "            # nothing has to be done if coeff is 0:\n",
    "            if abs(coeff) == 1 and i < degree:\n",
    "                # 1 in front of x shouldn't occur, e.g. x instead of 1x\n",
    "                # but we need the plus or minus sign:\n",
    "                res += f\"{'+' if coeff>0 else '-'}{x_expr(degree-i)}\"  \n",
    "            elif coeff != 0:\n",
    "                res += f\"{coeff:+g}{x_expr(degree-i)}\" \n",
    "\n",
    "        return res.lstrip('+')    # removing leading '+'\n",
    "\n",
    "            \n",
    "p = Polynomial(-0.8, 2.3, 0.5, 1, 0.2)\n",
    "\n",
    "p_der = p.derivative()\n",
    "\n",
    "X = np.linspace(-2, 3, 50, endpoint=True)\n",
    "\n",
    "F = p(X)\n",
    "F_derivative = p_der(X)\n",
    "plt.plot(X, F, label=\"F\")\n",
    "plt.plot(X, F_derivative, label=\"F_der\")\n",
    "\n",
    "plt.legend()\n",
    "plt.show()"
   ]
  },
  {
   "cell_type": "code",
   "execution_count": 62,
   "metadata": {},
   "outputs": [
    {
     "name": "stdout",
     "output_type": "stream",
     "text": [
      "f1(x) = x^4+2x^3-3x^2+4x-55\n",
      "f1'(x) = 4x^3+6x^2-6x+4\n",
      "f2(x) = x^2+2x+3\n",
      "f1(x) + f2(x) = x^4+2x^3-2x^2+6x-52\n"
     ]
    }
   ],
   "source": [
    "# Playing around a little bit\n",
    "p = Polynomial(1, 2, -3, 4, -55)\n",
    "\n",
    "p2 = Polynomial(1, 2, 3)\n",
    "\n",
    "p_der = p.derivative()\n",
    "\n",
    "print(\"f1(x) =\", p)\n",
    "print(\"f1'(x) =\", p_der)\n",
    "print(\"f2(x) =\", p2)\n",
    "\n",
    "p3 = p + p2\n",
    "\n",
    "print(\"f1(x) + f2(x) =\", p3)"
   ]
  }
 ],
 "metadata": {
  "kernelspec": {
   "display_name": "Python 3",
   "language": "python",
   "name": "python3"
  },
  "language_info": {
   "codemirror_mode": {
    "name": "ipython",
    "version": 3
   },
   "file_extension": ".py",
   "mimetype": "text/x-python",
   "name": "python",
   "nbconvert_exporter": "python",
   "pygments_lexer": "ipython3",
   "version": "3.7.3"
  }
 },
 "nbformat": 4,
 "nbformat_minor": 2
}
